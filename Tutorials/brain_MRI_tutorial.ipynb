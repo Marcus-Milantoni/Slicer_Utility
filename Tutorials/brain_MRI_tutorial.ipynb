{
 "cells": [
  {
   "cell_type": "markdown",
   "metadata": {},
   "source": [
    "# Slicer Tutorial Brain MRI\n",
    "\n",
    "This tutorial shows you how to use the functions from 'functions_for_slicer.py'. Before you begin, please ensure you have all the required modules downloaded from the requirements.txt file."
   ]
  },
  {
   "cell_type": "code",
   "execution_count": 3,
   "metadata": {},
   "outputs": [],
   "source": [
    "import sys\n",
    "import os\n",
    "\n",
    "# Add slicer_functions/ to the Python path\n",
    "sys.path.append(os.path.abspath(os.path.join(os.path.dirname('__file__'), '..', 'slicer_functions')))\n",
    "\n",
    "from basic_functions import *"
   ]
  },
  {
   "cell_type": "code",
   "execution_count": 4,
   "metadata": {},
   "outputs": [
    {
     "data": {
      "text/plain": [
       "['vtkMRMLScalarVolumeNode1',\n",
       " 'vtkMRMLGridTransformNode1',\n",
       " 'vtkMRMLScalarVolumeNode2',\n",
       " 'vtkMRMLCommandLineModuleNode1',\n",
       " 'vtkMRMLLabelMapVolumeNode1',\n",
       " 'vtkMRMLSegmentationNode1']"
      ]
     },
     "execution_count": 2,
     "metadata": {},
     "output_type": "execute_result"
    }
   ],
   "source": [
    "# Load in the DICOM directory for the brain resection patient into slicer\n",
    "current_dir = os.path.dirname(os.path.abspath('__file__'))\n",
    "brain_resection_dicom_path = os.path.join(current_dir, '..', 'example_patients', 'Brain_resection')\n",
    "\n",
    "\n",
    "load_DICOM(brain_resection_dicom_path)"
   ]
  },
  {
   "cell_type": "code",
   "execution_count": null,
   "metadata": {},
   "outputs": [],
   "source": []
  }
 ],
 "metadata": {
  "kernelspec": {
   "display_name": "Slicer 5.6",
   "language": "python",
   "name": "slicer-5.6"
  },
  "language_info": {
   "file_extension": ".py",
   "mimetype": "text/x-python",
   "name": "python",
   "version": "3.9.10"
  }
 },
 "nbformat": 4,
 "nbformat_minor": 2
}
