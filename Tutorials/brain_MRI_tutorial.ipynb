{
 "cells": [
  {
   "cell_type": "markdown",
   "metadata": {},
   "source": [
    "# Slicer Tutorial Brain MRI\n",
    "\n",
    "This tutorial shows you how to use the functions from 'functions_for_slicer.py'. Before you begin, please ensure you have all the required modules downloaded from the requirements.txt file."
   ]
  },
  {
   "cell_type": "code",
   "execution_count": null,
   "metadata": {},
   "outputs": [],
   "source": [
    "import sys\n",
    "import os\n",
    "\n",
    "# Add slicer_functions/ to the Python path\n",
    "sys.path.append(os.path.abspath(os.path.join(os.path.dirname('__file__'), '..', 'slicer_functions')))\n",
    "\n",
    "from basic_functions import *"
   ]
  },
  {
   "cell_type": "code",
   "execution_count": null,
   "metadata": {},
   "outputs": [],
   "source": [
    "# Load in the DICOM directory for the brain resection patient into slicer\n",
    "current_dir = os.path.dirname(os.path.abspath('__file__'))\n",
    "brain_resection_dicom_path = os.path.join(current_dir, '..', 'example_patients', 'cervical_cancer')\n",
    "\n",
    "slicer.mrmlScene.Clear(0) # Clear the scene\n",
    "load_DICOM(brain_resection_dicom_path)"
   ]
  },
  {
   "cell_type": "code",
   "execution_count": null,
   "metadata": {},
   "outputs": [],
   "source": [
    "# get the volume nodes and set the PET cmap to heat\n",
    "ct_node, pet_node = get_ct_and_pet_volume_nodes()\n",
    "\n",
    "# Set the PET colormap to heat\n",
    "petColor = slicer.mrmlScene.GetFirstNodeByName('PET-Heat')\n",
    "pet_node.GetVolumeDisplayNode().SetAndObserveColorNodeID(petColor.GetID())\n",
    "pet_node.GetVolumeDisplayNode().AutoWindowLevelOn()\n",
    "\n",
    "#  set the CT colormap to abdomen window/level\n",
    "slicer.modules.volumes.logic().ApplyVolumeDisplayPreset(ct_node.GetVolumeDisplayNode(), 'CT_ABDOMEN')\n",
    "\n",
    "\n",
    "# Set the foreground and background of the slice viewer\n",
    "slicer.util.setSliceViewerLayers(background=ct_node, foreground=pet_node, foregroundOpacity = 0.2)"
   ]
  },
  {
   "cell_type": "code",
   "execution_count": null,
   "metadata": {},
   "outputs": [],
   "source": [
    "# Get the segmentation node\n",
    "segmentation_node = slicer.mrmlScene.GetFirstNodeByClass('vtkMRMLSegmentationNode')\n",
    "segmentation = segmentation_node.GetSegmentation()\n",
    "\n",
    "# Set the contours as BinaryLabelMap for manipulation\n",
    "segmentation_node.CreateBinaryLabelmapRepresentation()\n",
    "segmentation_node.SetSourceRepresentationToBinaryLabelmap()"
   ]
  },
  {
   "cell_type": "code",
   "execution_count": null,
   "metadata": {},
   "outputs": [],
   "source": [
    "# average density of the lungs, head of feamur\n"
   ]
  }
 ],
 "metadata": {
  "kernelspec": {
   "display_name": "Slicer 5.6",
   "language": "python",
   "name": "slicer-5.6"
  },
  "language_info": {
   "file_extension": ".py",
   "mimetype": "text/x-python",
   "name": "python",
   "version": "3.9.10"
  }
 },
 "nbformat": 4,
 "nbformat_minor": 2
}
