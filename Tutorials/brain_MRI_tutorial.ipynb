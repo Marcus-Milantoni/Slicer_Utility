{
 "cells": [
  {
   "cell_type": "markdown",
   "metadata": {},
   "source": [
    "# Slicer Tutorial Brain MRI\n",
    "\n",
    "This tutorial shows you how to use the functions from 'functions_for_slicer.py'. Before you begin, please ensure you have all the required modules downloaded from the requirements.txt file."
   ]
  },
  {
   "cell_type": "code",
   "execution_count": 3,
   "metadata": {},
   "outputs": [],
   "source": [
    "import sys\n",
    "import os\n",
    "\n",
    "# Add slicer_functions/ to the Python path\n",
    "sys.path.append(os.path.abspath(os.path.join(os.path.dirname('__file__'), '..', 'slicer_functions')))\n",
    "\n",
    "from basic_functions import *"
   ]
  },
  {
   "cell_type": "code",
   "execution_count": 4,
   "metadata": {},
   "outputs": [
    {
     "name": "stdout",
     "output_type": "stream",
     "text": [
      "Found Referenced PET series\n",
      "Found Referenced PET series\n",
      "Found Referenced PET series\n",
      "Found Referenced PET series\n",
      "Found Radiopharmaceutical Code C-B1031\n",
      "Found Radiopharmaceutical Code C-B1031\n",
      "Found Radiopharmaceutical Code C-B1031\n",
      "Found Radiopharmaceutical Code C-B1031\n",
      "Found Referenced PET series\n",
      "Found Referenced PET series\n",
      "Found Referenced PET series\n",
      "Found Referenced PET series\n",
      "Found Radiopharmaceutical Code C-B1031\n"
     ]
    },
    {
     "data": {
      "text/plain": [
       "['vtkMRMLScalarVolumeNode1',\n",
       " 'vtkMRMLScalarVolumeNode2',\n",
       " 'vtkMRMLScalarVolumeNode3',\n",
       " 'vtkMRMLScalarVolumeNode4',\n",
       " 'vtkMRMLScalarVolumeNode5',\n",
       " 'vtkMRMLScalarVolumeNode6',\n",
       " 'vtkMRMLSegmentationNode1']"
      ]
     },
     "execution_count": 2,
     "metadata": {},
     "output_type": "execute_result"
    }
   ],
   "source": [
    "# Load in the DICOM directory for the brain resection patient into slicer\n",
    "current_dir = os.path.dirname(os.path.abspath('__file__'))\n",
    "brain_resection_dicom_path = os.path.join(current_dir, '..', 'example_patients', 'cervical_cancer')\n",
    "\n",
    "slicer.mrmlScene.Clear(0) # Clear the scene\n",
    "load_DICOM(brain_resection_dicom_path)"
   ]
  },
  {
   "cell_type": "code",
   "execution_count": 5,
   "metadata": {},
   "outputs": [],
   "source": [
    "# get the volume nodes and set the PET cmap to heat\n",
    "ct_node, pet_node = get_ct_and_pet_volume_nodes()\n",
    "\n",
    "# Set the PET colormap to heat\n",
    "petColor = slicer.mrmlScene.GetFirstNodeByName('PET-Heat')\n",
    "pet_node.GetVolumeDisplayNode().SetAndObserveColorNodeID(petColor.GetID())\n",
    "pet_node.GetVolumeDisplayNode().AutoWindowLevelOn()\n",
    "\n",
    "#  set the CT colormap to abdomen window/level\n",
    "slicer.modules.volumes.logic().ApplyVolumeDisplayPreset(ct_node.GetVolumeDisplayNode(), 'CT_ABDOMEN')\n",
    "\n",
    "\n",
    "# Set the foreground and background of the slice viewer\n",
    "slicer.util.setSliceViewerLayers(background=ct_node, foreground=pet_node, foregroundOpacity = 0.2)"
   ]
  },
  {
   "cell_type": "code",
   "execution_count": 6,
   "metadata": {},
   "outputs": [],
   "source": [
    "# Get the segmentation node\n",
    "segmentation_node = slicer.mrmlScene.GetFirstNodeByClass('vtkMRMLSegmentationNode')\n",
    "segmentation = segmentation_node.GetSegmentation()"
   ]
  },
  {
   "cell_type": "code",
   "execution_count": 7,
   "metadata": {},
   "outputs": [
    {
     "ename": "",
     "evalue": "",
     "output_type": "error",
     "traceback": [
      "\u001b[1;31mThe Kernel crashed while executing code in the the current cell or a previous cell. Please review the code in the cell(s) to identify a possible cause of the failure. Click <a href='https://aka.ms/vscodeJupyterKernelCrash'>here</a> for more info. View Jupyter <a href='command:jupyter.viewOutput'>log</a> for further details."
     ]
    }
   ],
   "source": [
    "# Set the contours as BinaryLabelMap for manipulation\n",
    "segmentation_node.CreateBinaryLabelmapRepresentation()\n"
   ]
  },
  {
   "cell_type": "code",
   "execution_count": null,
   "metadata": {},
   "outputs": [],
   "source": [
    "segmentation_node.SetSourceRepresentationToBinaryLabelmap()"
   ]
  },
  {
   "cell_type": "code",
   "execution_count": null,
   "metadata": {},
   "outputs": [],
   "source": [
    "# Get the names of all the segments in the segmentation node\n",
    "all_segment_names = [segmentation.GetNthSegment(i).GetName() for i in range(segmentation.GetNumberOfSegments())]\n",
    "\n",
    "# Get the volume nodes as numpy arrays\n",
    "ct_numpy_array = slicer.util.arrayFromVolume(ct_node)\n",
    "pet_numpy_array = slicer.util.arrayFromVolume(pet_node)\n",
    "\n",
    "# Make a dictionary of the segment names, and their numpy array sampled from the ct\n",
    "ct_segment_dict = {}\n",
    "for segment_name in all_segment_names:\n",
    "    segment_id = segmentation.GetSegmentIdBySegmentName(segment_name)\n",
    "    if not segment_id:\n",
    "        ct_segment_dict[segment_name] = slicer.util.arrayFromSegmentBinaryLabelmap(segmentation_node, segment_id. ct_node).astype(int)"
   ]
  },
  {
   "cell_type": "markdown",
   "metadata": {},
   "source": [
    "## Let's calculate the max and average houndsfeild values of the feamur and lungs:"
   ]
  },
  {
   "cell_type": "code",
   "execution_count": null,
   "metadata": {},
   "outputs": [],
   "source": [
    "# get the array of the left and right femur from the dictionary\n",
    "left_femur = ct_segment_dict['Left Femur']\n",
    "right_femur = ct_segment_dict['Right Femur']\n",
    "\n",
    "left_femur_ct = bitwise_and_from_array(left_femur, ct_numpy_array)\n",
    "right_femur_ct = bitwise_and_from_array(right_femur, ct_numpy_array)\n",
    "\n",
    "# get the max and average values of the left and right femur\n",
    "print(f\"Left femur max: {left_femur_ct.max()}, Left femur average: {left_femur_ct.mean()}\")\n",
    "print(f\"Right femur max: {right_femur_ct.max()}, Right femur average: {right_femur_ct.mean()}\")"
   ]
  },
  {
   "cell_type": "code",
   "execution_count": null,
   "metadata": {},
   "outputs": [],
   "source": [
    "# combine all the 5 lung lobes into one segment array\n",
    "lung_array = np.zeros_like(ct_numpy_array)\n",
    "\n",
    "for segment_name in all_segment_names:\n",
    "    if \"lung\" in segment_name.lower():\n",
    "        segment_id = segmentation.GetSegmentIdBySegmentName(segment_name)\n",
    "        lung_array = bitwise_or_from_array(lung_array, ct_segment_dict[segment_name])\n",
    "\n",
    "# add the lung array to slicer\n",
    "ct_segment_dict['Lung'] = lung_array\n",
    "add_segmentation_array_to_node(ct_segment_dict['Lung'], segmentation_node, 'Lung', ct_node)\n",
    "\n",
    "lung_ct = bitwise_and_from_array(lung_array, ct_numpy_array)\n",
    "\n",
    "# Get the max and average values of the lung\n",
    "print(f\"Lung max: {lung_ct.max()}, Lung average: {lung_ct.mean()}\")"
   ]
  },
  {
   "cell_type": "markdown",
   "metadata": {},
   "source": []
  }
 ],
 "metadata": {
  "kernelspec": {
   "display_name": "Slicer 5.6",
   "language": "python",
   "name": "slicer-5.6"
  },
  "language_info": {
   "file_extension": ".py",
   "mimetype": "text/x-python",
   "name": "python",
   "version": "3.9.10"
  }
 },
 "nbformat": 4,
 "nbformat_minor": 2
}
